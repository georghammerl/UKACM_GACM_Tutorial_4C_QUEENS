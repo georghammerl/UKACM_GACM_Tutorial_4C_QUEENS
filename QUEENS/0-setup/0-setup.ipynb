{
 "cells": [
  {
   "cell_type": "markdown",
   "id": "d657e48d-3bf5-44fc-b150-c5a3128ebcaf",
   "metadata": {
    "editable": true,
    "slideshow": {
     "slide_type": ""
    },
    "tags": []
   },
   "source": [
    "# Start tutorials with Jupyter Lab\n",
    "\n",
    "In the following, we will go through a series of hands-on QUEENS tutorials that show how QUEENS can be used and what it is capable of.\n",
    "\n",
    "We will go through the examples in Jupyter notebooks.\n",
    "To work with the notebooks, you have a pre-installed QUEENS Python environment with JupyterLab.\n",
    "\n",
    "To start JupyterLab, open a terminal and type the following:\n",
    "\n",
    "```bash\n",
    "cd $HOME/UKACM_GACM_Tutorial_4C_QUEENS/QUEENS\n",
    "mamba activate queens\n",
    "jupyter-lab\n",
    "```\n",
    "\n",
    "You should see an output similar to this:\n",
    "```bash\n",
    "[I 2022-11-17 22:05:10.846 ServerApp] jupyterlab | extension was successfully linked.\n",
    "[I 2022-11-17 22:05:10.856 ServerApp] nbclassic | extension was successfully linked.\n",
    "[I 2022-11-17 22:05:11.717 ServerApp] notebook_shim | extension was successfully linked.\n",
    "[I 2022-11-17 22:05:11.798 ServerApp] notebook_shim | extension was successfully loaded.\n",
    "[I 2022-11-17 22:05:11.799 LabApp] JupyterLab extension loaded from /home/a11bsebr/Programs/Miniconda3/envs/queens/lib/python3.8/site-packages/jupyterlab\n",
    "[I 2022-11-17 22:05:11.799 LabApp] JupyterLab application directory is /home/a11bsebr/Programs/Miniconda3/envs/queens/share/jupyter/lab\n",
    "[I 2022-11-17 22:05:11.806 ServerApp] jupyterlab | extension was successfully loaded.\n",
    "[I 2022-11-17 22:05:11.820 ServerApp] nbclassic | extension was successfully loaded.\n",
    "[I 2022-11-17 22:05:11.821 ServerApp] Serving notebooks from local directory: /hdd/a11bsebr/Workspace/queens\n",
    "[I 2022-11-17 22:05:11.821 ServerApp] Jupyter Server 1.18.1 is running at:\n",
    "[I 2022-11-17 22:05:11.821 ServerApp] http://localhost:8888/lab?token=a380c29b8411bd4141cd9b22a3c93bd94be58f663bb176e3\n",
    "[I 2022-11-17 22:05:11.821 ServerApp]  or http://127.0.0.1:8888/lab?token=a380c29b8411bd4141cd9b22a3c93bd94be58f663bb176e3\n",
    "[I 2022-11-17 22:05:11.821 ServerApp] Use Control-C to stop this server and shut down all kernels (twice to skip confirmation).\n",
    "\n",
    "    To access the server, open this file in a browser:\n",
    "        file:///home/a11bsebr/.local/share/jupyter/runtime/jpserver-354873-open.html\n",
    "    Or copy and paste one of these URLs:\n",
    "        http://localhost:8888/lab?token=a380c29b8411bd4141cd9b22a3c93bd94be58f663bb176e3\n",
    "     or http://127.0.0.1:8888/lab?token=a380c29b8411bd4141cd9b22a3c93bd94be58f663bb176e3\n",
    "```\n",
    "\n",
    "1. If JupyterLab does not open automatically in a browser, you can open it by following or copying one of the links shown in your terminal in your browser.\n",
    "\n",
    "1.\tOpen a notebook: In the file browser panel (on the left), locate the .ipynb file and double-click it. You can find them in the corresponding subfolder. The notebook will open in a new tab.\n",
    "\n",
    "1.\tWork with the notebook:\n",
    "    * Each notebook consists of cells that can contain either code (Python or other supported languages) or text (Markdown).\n",
    "    * By clicking on a code cell, you can start writing code in it.\n",
    "    * To run a cell, select it and press Shift + Enter.\n",
    "      \n",
    "1.\tSave your work: JupyterLab automatically saves periodically, but you can also save manually with the save button on the top left."
   ]
  }
 ],
 "metadata": {
  "kernelspec": {
   "display_name": "Python 3 (ipykernel)",
   "language": "python",
   "name": "python3"
  },
  "language_info": {
   "codemirror_mode": {
    "name": "ipython",
    "version": 3
   },
   "file_extension": ".py",
   "mimetype": "text/x-python",
   "name": "python",
   "nbconvert_exporter": "python",
   "pygments_lexer": "ipython3",
   "version": "3.11.0"
  }
 },
 "nbformat": 4,
 "nbformat_minor": 5
}
